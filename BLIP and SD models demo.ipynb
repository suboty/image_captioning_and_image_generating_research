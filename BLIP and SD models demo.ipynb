{
 "cells": [
  {
   "cell_type": "markdown",
   "id": "923946d4",
   "metadata": {},
   "source": [
    "## Установка зависимостей"
   ]
  },
  {
   "cell_type": "code",
   "execution_count": null,
   "id": "d8070da6",
   "metadata": {},
   "outputs": [],
   "source": [
    "# !pip install -q diffusers transformers accelerate omegaconf invisible-watermark"
   ]
  },
  {
   "cell_type": "code",
   "execution_count": null,
   "id": "0bebb09c",
   "metadata": {},
   "outputs": [],
   "source": [
    "# выполните, если получаете ошибку \"cannot import name 'CLIPImageProcessor' from 'transformers'\" при импорте SD XL\n",
    "\n",
    "# !pip install git+https://github.com/huggingface/transformers"
   ]
  },
  {
   "cell_type": "code",
   "execution_count": null,
   "id": "a9dbdbc1",
   "metadata": {},
   "outputs": [],
   "source": [
    "!pip install -q ipywidgets"
   ]
  },
  {
   "cell_type": "markdown",
   "id": "45270580",
   "metadata": {},
   "source": [
    "## Stable Diffusion XL generation\n",
    "\n",
    "HuggingFace: https://huggingface.co/docs/diffusers/using-diffusers/sdxl\n",
    "\n",
    "Про другие модели можно почитать [здесь](https://neerc.ifmo.ru/wiki/index.php?title=%D0%93%D0%B5%D0%BD%D0%B5%D1%80%D0%B0%D1%86%D0%B8%D1%8F_%D0%B8%D0%B7%D0%BE%D0%B1%D1%80%D0%B0%D0%B6%D0%B5%D0%BD%D0%B8%D1%8F_%D0%BF%D0%BE_%D1%82%D0%B5%D0%BA%D1%81%D1%82%D1%83)\n",
    "\n",
    "Подробнее про задачу [здесь](https://habr.com/ru/articles/713076/)"
   ]
  },
  {
   "cell_type": "code",
   "execution_count": null,
   "id": "a43f3762",
   "metadata": {},
   "outputs": [],
   "source": [
    "from diffusers import StableDiffusionXLPipeline, StableDiffusionXLImg2ImgPipeline\n",
    "import torch\n",
    "\n",
    "pipeline = StableDiffusionXLPipeline.from_single_file(\n",
    "    \"https://huggingface.co/stabilityai/stable-diffusion-xl-base-1.0/blob/main/sd_xl_base_1.0.safetensors\", torch_dtype=torch.float16, variant=\"fp16\", use_safetensors=True\n",
    ").to(\"cuda\")\n",
    "\n",
    "refiner = StableDiffusionXLImg2ImgPipeline.from_single_file(\n",
    "    \"https://huggingface.co/stabilityai/stable-diffusion-xl-refiner-1.0/blob/main/sd_xl_refiner_1.0.safetensors\", torch_dtype=torch.float16, use_safetensors=True, variant=\"fp16\"\n",
    ").to(\"cuda\")"
   ]
  },
  {
   "cell_type": "markdown",
   "id": "a8e530be",
   "metadata": {},
   "source": [
    "### Text-to-image*\n",
    "\n",
    "*StableDiffusion также умеет решать задачи **Image-to-image**, **inpainting** (подробнее расссказано [здесь](https://neerc.ifmo.ru/wiki/index.php?title=%D0%92%D0%BF%D0%B8%D1%81%D1%8B%D0%B2%D0%B0%D0%BD%D0%B8%D0%B5_%D1%87%D0%B0%D1%81%D1%82%D0%B8_%D0%B8%D0%B7%D0%BE%D0%B1%D1%80%D0%B0%D0%B6%D0%B5%D0%BD%D0%B8%D1%8F))"
   ]
  },
  {
   "cell_type": "code",
   "execution_count": null,
   "id": "00c670c3",
   "metadata": {},
   "outputs": [],
   "source": [
    "from diffusers import AutoPipelineForText2Image\n",
    "import torch\n",
    "\n",
    "pipeline_text2image = AutoPipelineForText2Image.from_pretrained(\n",
    "    \"stabilityai/stable-diffusion-xl-base-1.0\", torch_dtype=torch.float16, variant=\"fp16\", use_safetensors=True\n",
    ").to(\"cuda\")\n",
    "\n",
    "prompt = input('Введите Ваш запрос: ')\n",
    "image = pipeline_text2image(prompt=prompt).images[0]\n",
    "image"
   ]
  },
  {
   "cell_type": "markdown",
   "id": "3a47e29a",
   "metadata": {},
   "source": [
    "## BLIP annotation (Image Caption)\n",
    "\n",
    "Подробнее о модели CLIP можно прочитать [здесь](https://huggingface.co/Salesforce/blip-image-captioning-large)\n",
    "\n",
    "Увидеть пример использования другой модели (CLIP) можно [здесь](https://github.com/Technolog796/image_captioning)"
   ]
  },
  {
   "cell_type": "code",
   "execution_count": null,
   "id": "9601a3a6",
   "metadata": {},
   "outputs": [],
   "source": [
    "import requests\n",
    "from PIL import Image\n",
    "from transformers import BlipProcessor, BlipForConditionalGeneration\n",
    "\n",
    "processor = BlipProcessor.from_pretrained(\"Salesforce/blip-image-captioning-large\")\n",
    "model = BlipForConditionalGeneration.from_pretrained(\"Salesforce/blip-image-captioning-large\")\n",
    "\n",
    "img_url = 'https://storage.googleapis.com/sfr-vision-language-research/BLIP/demo.jpg' \n",
    "raw_image = Image.open(requests.get(img_url, stream=True).raw).convert('RGB')\n",
    "\n",
    "# Условное Image Caption\n",
    "text = \"a photography of\"\n",
    "inputs = processor(raw_image, text, return_tensors=\"pt\")\n",
    "\n",
    "out = model.generate(**inputs)\n",
    "print(processor.decode(out[0], skip_special_tokens=True))\n",
    "\n",
    "# Image captioning без ограничений\n",
    "inputs = processor(raw_image, return_tensors=\"pt\")\n",
    "\n",
    "out = model.generate(**inputs)\n",
    "print(processor.decode(out[0], skip_special_tokens=True))"
   ]
  },
  {
   "cell_type": "code",
   "execution_count": null,
   "id": "17984cef",
   "metadata": {},
   "outputs": [],
   "source": []
  }
 ],
 "metadata": {
  "kernelspec": {
   "display_name": "Python 3 (ipykernel)",
   "language": "python",
   "name": "python3"
  },
  "language_info": {
   "codemirror_mode": {
    "name": "ipython",
    "version": 3
   },
   "file_extension": ".py",
   "mimetype": "text/x-python",
   "name": "python",
   "nbconvert_exporter": "python",
   "pygments_lexer": "ipython3",
   "version": "3.10.9"
  }
 },
 "nbformat": 4,
 "nbformat_minor": 5
}
